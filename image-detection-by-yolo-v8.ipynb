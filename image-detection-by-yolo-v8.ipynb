{
 "cells": [
  {
   "cell_type": "code",
   "execution_count": 1,
   "id": "407d8c89",
   "metadata": {
    "execution": {
     "iopub.execute_input": "2023-07-01T15:31:30.585828Z",
     "iopub.status.busy": "2023-07-01T15:31:30.584705Z",
     "iopub.status.idle": "2023-07-01T15:31:43.248773Z",
     "shell.execute_reply": "2023-07-01T15:31:43.247564Z"
    },
    "papermill": {
     "duration": 12.678937,
     "end_time": "2023-07-01T15:31:43.251561",
     "exception": false,
     "start_time": "2023-07-01T15:31:30.572624",
     "status": "completed"
    },
    "tags": []
   },
   "outputs": [
    {
     "name": "stdout",
     "output_type": "stream",
     "text": [
      "Defaulting to user installation because normal site-packages is not writeable\n",
      "Requirement already satisfied: ultralytics in /home/sarah/.local/lib/python3.10/site-packages (8.0.0)\n",
      "Requirement already satisfied: hydra-core>=1.2.0 in /home/sarah/.local/lib/python3.10/site-packages (from ultralytics) (1.3.2)\n",
      "Requirement already satisfied: matplotlib>=3.2.2 in /home/sarah/.local/lib/python3.10/site-packages (from ultralytics) (3.6.3)\n",
      "Requirement already satisfied: numpy>=1.18.5 in /home/sarah/.local/lib/python3.10/site-packages (from ultralytics) (1.23.5)\n",
      "Requirement already satisfied: opencv-python>=4.1.1 in /home/sarah/.local/lib/python3.10/site-packages (from ultralytics) (4.7.0.72)\n",
      "Requirement already satisfied: Pillow>=7.1.2 in /usr/lib/python3/dist-packages (from ultralytics) (9.0.1)\n",
      "Requirement already satisfied: PyYAML>=5.3.1 in /usr/lib/python3/dist-packages (from ultralytics) (5.4.1)\n",
      "Requirement already satisfied: requests>=2.23.0 in /home/sarah/.local/lib/python3.10/site-packages (from ultralytics) (2.31.0)\n",
      "Requirement already satisfied: scipy>=1.4.1 in /home/sarah/.local/lib/python3.10/site-packages (from ultralytics) (1.8.0)\n",
      "Requirement already satisfied: torch>=1.7.0 in /home/sarah/.local/lib/python3.10/site-packages (from ultralytics) (2.1.0)\n",
      "Requirement already satisfied: torchvision>=0.8.1 in /home/sarah/.local/lib/python3.10/site-packages (from ultralytics) (0.16.0)\n",
      "Requirement already satisfied: tqdm>=4.64.0 in /home/sarah/.local/lib/python3.10/site-packages (from ultralytics) (4.65.0)\n",
      "Requirement already satisfied: tensorboard>=2.4.1 in /home/sarah/.local/lib/python3.10/site-packages (from ultralytics) (2.15.1)\n",
      "Requirement already satisfied: pandas>=1.1.4 in /home/sarah/.local/lib/python3.10/site-packages (from ultralytics) (1.3.5)\n",
      "Requirement already satisfied: seaborn>=0.11.0 in /home/sarah/.local/lib/python3.10/site-packages (from ultralytics) (0.12.2)\n",
      "Requirement already satisfied: ipython in /home/sarah/.local/lib/python3.10/site-packages (from ultralytics) (8.9.0)\n",
      "Requirement already satisfied: psutil in /home/sarah/.local/lib/python3.10/site-packages (from ultralytics) (5.9.4)\n",
      "Requirement already satisfied: thop>=0.1.1 in /home/sarah/.local/lib/python3.10/site-packages (from ultralytics) (0.1.1.post2209072238)\n",
      "Requirement already satisfied: GitPython>=3.1.24 in /home/sarah/.local/lib/python3.10/site-packages (from ultralytics) (3.1.40)\n",
      "Requirement already satisfied: gitdb<5,>=4.0.1 in /home/sarah/.local/lib/python3.10/site-packages (from GitPython>=3.1.24->ultralytics) (4.0.11)\n",
      "Requirement already satisfied: omegaconf<2.4,>=2.2 in /home/sarah/.local/lib/python3.10/site-packages (from hydra-core>=1.2.0->ultralytics) (2.3.0)\n",
      "Requirement already satisfied: antlr4-python3-runtime==4.9.* in /home/sarah/.local/lib/python3.10/site-packages (from hydra-core>=1.2.0->ultralytics) (4.9.3)\n",
      "Requirement already satisfied: packaging in /home/sarah/.local/lib/python3.10/site-packages (from hydra-core>=1.2.0->ultralytics) (23.0)\n",
      "Requirement already satisfied: contourpy>=1.0.1 in /home/sarah/.local/lib/python3.10/site-packages (from matplotlib>=3.2.2->ultralytics) (1.0.7)\n",
      "Requirement already satisfied: cycler>=0.10 in /home/sarah/.local/lib/python3.10/site-packages (from matplotlib>=3.2.2->ultralytics) (0.11.0)\n",
      "Requirement already satisfied: fonttools>=4.22.0 in /home/sarah/.local/lib/python3.10/site-packages (from matplotlib>=3.2.2->ultralytics) (4.38.0)\n",
      "Requirement already satisfied: kiwisolver>=1.0.1 in /home/sarah/.local/lib/python3.10/site-packages (from matplotlib>=3.2.2->ultralytics) (1.4.4)\n",
      "Requirement already satisfied: pyparsing>=2.2.1 in /usr/lib/python3/dist-packages (from matplotlib>=3.2.2->ultralytics) (2.4.7)\n",
      "Requirement already satisfied: python-dateutil>=2.7 in /home/sarah/.local/lib/python3.10/site-packages (from matplotlib>=3.2.2->ultralytics) (2.8.2)\n",
      "Requirement already satisfied: pytz>=2017.3 in /usr/lib/python3/dist-packages (from pandas>=1.1.4->ultralytics) (2022.1)\n",
      "Requirement already satisfied: charset-normalizer<4,>=2 in /home/sarah/.local/lib/python3.10/site-packages (from requests>=2.23.0->ultralytics) (3.2.0)\n",
      "Requirement already satisfied: idna<4,>=2.5 in /usr/lib/python3/dist-packages (from requests>=2.23.0->ultralytics) (3.3)\n",
      "Requirement already satisfied: urllib3<3,>=1.21.1 in /usr/lib/python3/dist-packages (from requests>=2.23.0->ultralytics) (1.26.5)\n",
      "Requirement already satisfied: certifi>=2017.4.17 in /usr/lib/python3/dist-packages (from requests>=2.23.0->ultralytics) (2020.6.20)\n",
      "Requirement already satisfied: absl-py>=0.4 in /home/sarah/.local/lib/python3.10/site-packages (from tensorboard>=2.4.1->ultralytics) (1.4.0)\n",
      "Requirement already satisfied: grpcio>=1.48.2 in /home/sarah/.local/lib/python3.10/site-packages (from tensorboard>=2.4.1->ultralytics) (1.57.0)\n",
      "Requirement already satisfied: google-auth<3,>=1.6.3 in /home/sarah/.local/lib/python3.10/site-packages (from tensorboard>=2.4.1->ultralytics) (2.22.0)\n",
      "Requirement already satisfied: google-auth-oauthlib<2,>=0.5 in /home/sarah/.local/lib/python3.10/site-packages (from tensorboard>=2.4.1->ultralytics) (1.0.0)\n",
      "Requirement already satisfied: markdown>=2.6.8 in /home/sarah/.local/lib/python3.10/site-packages (from tensorboard>=2.4.1->ultralytics) (3.4.4)\n",
      "Requirement already satisfied: protobuf<4.24,>=3.19.6 in /home/sarah/.local/lib/python3.10/site-packages (from tensorboard>=2.4.1->ultralytics) (4.23.4)\n",
      "Requirement already satisfied: setuptools>=41.0.0 in /home/sarah/.local/lib/python3.10/site-packages (from tensorboard>=2.4.1->ultralytics) (69.0.2)\n",
      "Requirement already satisfied: six>1.9 in /home/sarah/.local/lib/python3.10/site-packages (from tensorboard>=2.4.1->ultralytics) (1.16.0)\n",
      "Requirement already satisfied: tensorboard-data-server<0.8.0,>=0.7.0 in /home/sarah/.local/lib/python3.10/site-packages (from tensorboard>=2.4.1->ultralytics) (0.7.1)\n",
      "Requirement already satisfied: werkzeug>=1.0.1 in /home/sarah/.local/lib/python3.10/site-packages (from tensorboard>=2.4.1->ultralytics) (2.2.3)\n",
      "Requirement already satisfied: filelock in /home/sarah/.local/lib/python3.10/site-packages (from torch>=1.7.0->ultralytics) (3.9.0)\n",
      "Requirement already satisfied: typing-extensions in /home/sarah/.local/lib/python3.10/site-packages (from torch>=1.7.0->ultralytics) (4.4.0)\n",
      "Requirement already satisfied: sympy in /home/sarah/.local/lib/python3.10/site-packages (from torch>=1.7.0->ultralytics) (1.12)\n",
      "Requirement already satisfied: networkx in /home/sarah/.local/lib/python3.10/site-packages (from torch>=1.7.0->ultralytics) (2.8.8)\n",
      "Requirement already satisfied: jinja2 in /usr/lib/python3/dist-packages (from torch>=1.7.0->ultralytics) (3.0.3)\n",
      "Requirement already satisfied: fsspec in /home/sarah/.local/lib/python3.10/site-packages (from torch>=1.7.0->ultralytics) (2023.6.0)\n",
      "Requirement already satisfied: nvidia-cuda-nvrtc-cu12==12.1.105 in /home/sarah/.local/lib/python3.10/site-packages (from torch>=1.7.0->ultralytics) (12.1.105)\n",
      "Requirement already satisfied: nvidia-cuda-runtime-cu12==12.1.105 in /home/sarah/.local/lib/python3.10/site-packages (from torch>=1.7.0->ultralytics) (12.1.105)\n",
      "Requirement already satisfied: nvidia-cuda-cupti-cu12==12.1.105 in /home/sarah/.local/lib/python3.10/site-packages (from torch>=1.7.0->ultralytics) (12.1.105)\n",
      "Requirement already satisfied: nvidia-cudnn-cu12==8.9.2.26 in /home/sarah/.local/lib/python3.10/site-packages (from torch>=1.7.0->ultralytics) (8.9.2.26)\n",
      "Requirement already satisfied: nvidia-cublas-cu12==12.1.3.1 in /home/sarah/.local/lib/python3.10/site-packages (from torch>=1.7.0->ultralytics) (12.1.3.1)\n",
      "Requirement already satisfied: nvidia-cufft-cu12==11.0.2.54 in /home/sarah/.local/lib/python3.10/site-packages (from torch>=1.7.0->ultralytics) (11.0.2.54)\n",
      "Requirement already satisfied: nvidia-curand-cu12==10.3.2.106 in /home/sarah/.local/lib/python3.10/site-packages (from torch>=1.7.0->ultralytics) (10.3.2.106)\n",
      "Requirement already satisfied: nvidia-cusolver-cu12==11.4.5.107 in /home/sarah/.local/lib/python3.10/site-packages (from torch>=1.7.0->ultralytics) (11.4.5.107)\n",
      "Requirement already satisfied: nvidia-cusparse-cu12==12.1.0.106 in /home/sarah/.local/lib/python3.10/site-packages (from torch>=1.7.0->ultralytics) (12.1.0.106)\n",
      "Requirement already satisfied: nvidia-nccl-cu12==2.18.1 in /home/sarah/.local/lib/python3.10/site-packages (from torch>=1.7.0->ultralytics) (2.18.1)\n",
      "Requirement already satisfied: nvidia-nvtx-cu12==12.1.105 in /home/sarah/.local/lib/python3.10/site-packages (from torch>=1.7.0->ultralytics) (12.1.105)\n",
      "Requirement already satisfied: triton==2.1.0 in /home/sarah/.local/lib/python3.10/site-packages (from torch>=1.7.0->ultralytics) (2.1.0)\n",
      "Requirement already satisfied: nvidia-nvjitlink-cu12 in /home/sarah/.local/lib/python3.10/site-packages (from nvidia-cusolver-cu12==11.4.5.107->torch>=1.7.0->ultralytics) (12.3.52)\n",
      "Requirement already satisfied: backcall in /home/sarah/.local/lib/python3.10/site-packages (from ipython->ultralytics) (0.2.0)\n",
      "Requirement already satisfied: decorator in /home/sarah/.local/lib/python3.10/site-packages (from ipython->ultralytics) (5.1.1)\n",
      "Requirement already satisfied: jedi>=0.16 in /home/sarah/.local/lib/python3.10/site-packages (from ipython->ultralytics) (0.18.2)\n",
      "Requirement already satisfied: matplotlib-inline in /home/sarah/.local/lib/python3.10/site-packages (from ipython->ultralytics) (0.1.6)\n",
      "Requirement already satisfied: pickleshare in /home/sarah/.local/lib/python3.10/site-packages (from ipython->ultralytics) (0.7.5)\n",
      "Requirement already satisfied: prompt-toolkit<3.1.0,>=3.0.30 in /home/sarah/.local/lib/python3.10/site-packages (from ipython->ultralytics) (3.0.36)\n",
      "Requirement already satisfied: pygments>=2.4.0 in /home/sarah/.local/lib/python3.10/site-packages (from ipython->ultralytics) (2.14.0)\n",
      "Requirement already satisfied: stack-data in /home/sarah/.local/lib/python3.10/site-packages (from ipython->ultralytics) (0.6.2)\n",
      "Requirement already satisfied: traitlets>=5 in /home/sarah/.local/lib/python3.10/site-packages (from ipython->ultralytics) (5.9.0)\n",
      "Requirement already satisfied: pexpect>4.3 in /home/sarah/.local/lib/python3.10/site-packages (from ipython->ultralytics) (4.8.0)\n",
      "Requirement already satisfied: smmap<6,>=3.0.1 in /home/sarah/.local/lib/python3.10/site-packages (from gitdb<5,>=4.0.1->GitPython>=3.1.24->ultralytics) (5.0.1)\n",
      "Requirement already satisfied: cachetools<6.0,>=2.0.0 in /usr/lib/python3/dist-packages (from google-auth<3,>=1.6.3->tensorboard>=2.4.1->ultralytics) (5.0.0)\n",
      "Requirement already satisfied: pyasn1-modules>=0.2.1 in /usr/lib/python3/dist-packages (from google-auth<3,>=1.6.3->tensorboard>=2.4.1->ultralytics) (0.2.1)\n",
      "Requirement already satisfied: rsa<5,>=3.1.4 in /usr/lib/python3/dist-packages (from google-auth<3,>=1.6.3->tensorboard>=2.4.1->ultralytics) (4.8)\n",
      "Requirement already satisfied: requests-oauthlib>=0.7.0 in /home/sarah/.local/lib/python3.10/site-packages (from google-auth-oauthlib<2,>=0.5->tensorboard>=2.4.1->ultralytics) (1.3.1)\n",
      "Requirement already satisfied: parso<0.9.0,>=0.8.0 in /home/sarah/.local/lib/python3.10/site-packages (from jedi>=0.16->ipython->ultralytics) (0.8.3)\n",
      "Requirement already satisfied: ptyprocess>=0.5 in /home/sarah/.local/lib/python3.10/site-packages (from pexpect>4.3->ipython->ultralytics) (0.7.0)\n",
      "Requirement already satisfied: wcwidth in /home/sarah/.local/lib/python3.10/site-packages (from prompt-toolkit<3.1.0,>=3.0.30->ipython->ultralytics) (0.2.6)\n",
      "Requirement already satisfied: MarkupSafe>=2.1.1 in /home/sarah/.local/lib/python3.10/site-packages (from werkzeug>=1.0.1->tensorboard>=2.4.1->ultralytics) (2.1.2)\n",
      "Requirement already satisfied: executing>=1.2.0 in /home/sarah/.local/lib/python3.10/site-packages (from stack-data->ipython->ultralytics) (1.2.0)\n",
      "Requirement already satisfied: asttokens>=2.1.0 in /home/sarah/.local/lib/python3.10/site-packages (from stack-data->ipython->ultralytics) (2.2.1)\n",
      "Requirement already satisfied: pure-eval in /home/sarah/.local/lib/python3.10/site-packages (from stack-data->ipython->ultralytics) (0.2.2)\n",
      "Requirement already satisfied: mpmath>=0.19 in /home/sarah/.local/lib/python3.10/site-packages (from sympy->torch>=1.7.0->ultralytics) (1.3.0)\n",
      "Requirement already satisfied: oauthlib>=3.0.0 in /usr/lib/python3/dist-packages (from requests-oauthlib>=0.7.0->google-auth-oauthlib<2,>=0.5->tensorboard>=2.4.1->ultralytics) (3.2.0)\n",
      "Note: you may need to restart the kernel to use updated packages.\n"
     ]
    }
   ],
   "source": [
    "%pip install ultralytics # install package for import YOLO v8"
   ]
  },
  {
   "cell_type": "code",
   "execution_count": 2,
   "id": "129fc717",
   "metadata": {
    "execution": {
     "iopub.execute_input": "2023-07-01T15:31:43.270889Z",
     "iopub.status.busy": "2023-07-01T15:31:43.270486Z",
     "iopub.status.idle": "2023-07-01T15:31:49.881787Z",
     "shell.execute_reply": "2023-07-01T15:31:49.880611Z"
    },
    "papermill": {
     "duration": 6.624618,
     "end_time": "2023-07-01T15:31:49.885082",
     "exception": false,
     "start_time": "2023-07-01T15:31:43.260464",
     "status": "completed"
    },
    "tags": []
   },
   "outputs": [],
   "source": [
    "from ultralytics import YOLO\n",
    "\n",
    "import warnings\n",
    "warnings.filterwarnings('ignore')"
   ]
  },
  {
   "cell_type": "markdown",
   "id": "908149d8",
   "metadata": {
    "papermill": {
     "duration": 0.008718,
     "end_time": "2023-07-01T15:31:49.907293",
     "exception": false,
     "start_time": "2023-07-01T15:31:49.898575",
     "status": "completed"
    },
    "tags": []
   },
   "source": [
    "# Select type of model YOLO v8 for pre_train"
   ]
  },
  {
   "cell_type": "code",
   "execution_count": 3,
   "id": "61590829",
   "metadata": {
    "execution": {
     "iopub.execute_input": "2023-07-01T15:31:49.926648Z",
     "iopub.status.busy": "2023-07-01T15:31:49.925584Z",
     "iopub.status.idle": "2023-07-01T15:31:51.235580Z",
     "shell.execute_reply": "2023-07-01T15:31:51.234592Z"
    },
    "papermill": {
     "duration": 1.322551,
     "end_time": "2023-07-01T15:31:51.238276",
     "exception": false,
     "start_time": "2023-07-01T15:31:49.915725",
     "status": "completed"
    },
    "tags": []
   },
   "outputs": [
    {
     "name": "stderr",
     "output_type": "stream",
     "text": [
      "Downloading https://github.com/ultralytics/assets/releases/download/v0.0.0/yolov8m.pt to yolov8m.pt...\n",
      "100%|██████████| 49.7M/49.7M [00:24<00:00, 2.14MB/s]\n",
      "\n"
     ]
    }
   ],
   "source": [
    "model = YOLO(\"yolov8m.pt\")"
   ]
  },
  {
   "cell_type": "markdown",
   "id": "bc04828c",
   "metadata": {
    "papermill": {
     "duration": 0.008441,
     "end_time": "2023-07-01T15:31:51.255996",
     "exception": false,
     "start_time": "2023-07-01T15:31:51.247555",
     "status": "completed"
    },
    "tags": []
   },
   "source": [
    "### <li style=\"color:green\"> All YOLOv8 models for object detection ship already pre-trained on the COCO dataset\n",
    "### <li style=\"color:red\">In this section we use that and in next part we create custome dataset"
   ]
  },
  {
   "cell_type": "markdown",
   "id": "212cef58",
   "metadata": {
    "papermill": {
     "duration": 0.008371,
     "end_time": "2023-07-01T15:31:51.273227",
     "exception": false,
     "start_time": "2023-07-01T15:31:51.264856",
     "status": "completed"
    },
    "tags": []
   },
   "source": [
    "# Types of model for pre_training in YOLO v8"
   ]
  },
  {
   "attachments": {
    "2c425eb7-1657-4970-8448-024ede7588da.PNG": {
     "image/png": "[encoded data removed]"
    }
   },
   "cell_type": "markdown",
   "id": "0d436913",
   "metadata": {
    "execution": {
     "iopub.execute_input": "2023-07-01T09:16:35.237596Z",
     "iopub.status.busy": "2023-07-01T09:16:35.237144Z",
     "iopub.status.idle": "2023-07-01T09:16:35.244477Z",
     "shell.execute_reply": "2023-07-01T09:16:35.242938Z",
     "shell.execute_reply.started": "2023-07-01T09:16:35.237562Z"
    },
    "papermill": {
     "duration": 0.009,
     "end_time": "2023-07-01T15:31:51.291027",
     "exception": false,
     "start_time": "2023-07-01T15:31:51.282027",
     "status": "completed"
    },
    "tags": []
   },
   "source": [
    "![TypeModels.PNG](attachment:2c425eb7-1657-4970-8448-024ede7588da.PNG)"
   ]
  },
  {
   "cell_type": "markdown",
   "id": "ba62e8ec",
   "metadata": {
    "papermill": {
     "duration": 0.008444,
     "end_time": "2023-07-01T15:31:51.308421",
     "exception": false,
     "start_time": "2023-07-01T15:31:51.299977",
     "status": "completed"
    },
    "tags": []
   },
   "source": [
    "# Fetch image "
   ]
  },
  {
   "cell_type": "code",
   "execution_count": 4,
   "id": "093fa9b6",
   "metadata": {
    "execution": {
     "iopub.execute_input": "2023-07-01T15:31:51.327973Z",
     "iopub.status.busy": "2023-07-01T15:31:51.327537Z",
     "iopub.status.idle": "2023-07-01T15:32:02.003478Z",
     "shell.execute_reply": "2023-07-01T15:32:02.002175Z"
    },
    "papermill": {
     "duration": 10.688904,
     "end_time": "2023-07-01T15:32:02.006030",
     "exception": false,
     "start_time": "2023-07-01T15:31:51.317126",
     "status": "completed"
    },
    "tags": []
   },
   "outputs": [
    {
     "name": "stdout",
     "output_type": "stream",
     "text": [
      "Defaulting to user installation because normal site-packages is not writeable\n",
      "Requirement already satisfied: pillow in /usr/lib/python3/dist-packages (9.0.1)\n",
      "Note: you may need to restart the kernel to use updated packages.\n"
     ]
    }
   ],
   "source": [
    "%pip install pillow"
   ]
  },
  {
   "cell_type": "code",
   "execution_count": 5,
   "id": "b2ef4a19",
   "metadata": {
    "execution": {
     "iopub.execute_input": "2023-07-01T15:32:02.026357Z",
     "iopub.status.busy": "2023-07-01T15:32:02.025873Z",
     "iopub.status.idle": "2023-07-01T15:32:02.031441Z",
     "shell.execute_reply": "2023-07-01T15:32:02.030403Z"
    },
    "papermill": {
     "duration": 0.018132,
     "end_time": "2023-07-01T15:32:02.033322",
     "exception": false,
     "start_time": "2023-07-01T15:32:02.015190",
     "status": "completed"
    },
    "tags": []
   },
   "outputs": [],
   "source": [
    "from PIL import Image"
   ]
  },
  {
   "cell_type": "code",
   "execution_count": 7,
   "id": "e7b4eca9",
   "metadata": {
    "execution": {
     "iopub.execute_input": "2023-07-01T15:32:02.052624Z",
     "iopub.status.busy": "2023-07-01T15:32:02.052223Z",
     "iopub.status.idle": "2023-07-01T15:32:02.358228Z",
     "shell.execute_reply": "2023-07-01T15:32:02.357469Z"
    },
    "papermill": {
     "duration": 0.336557,
     "end_time": "2023-07-01T15:32:02.378685",
     "exception": false,
     "start_time": "2023-07-01T15:32:02.042128",
     "status": "completed"
    },
    "tags": []
   },
   "outputs": [
    {
     "ename": "FileNotFoundError",
     "evalue": "[Errno 2] No such file or directory: 'spet.jpg'",
     "output_type": "error",
     "traceback": [
      "\u001b[0;31m---------------------------------------------------------------------------\u001b[0m",
      "\u001b[0;31mFileNotFoundError\u001b[0m                         Traceback (most recent call last)",
      "\u001b[1;32m/mnt/c/Users/Dell/Documents/repo-fork/video-dataset-preprocess/image-detection-by-yolo-v8.ipynb Cell 11\u001b[0m line \u001b[0;36m2\n\u001b[1;32m      <a href='vscode-notebook-cell://wsl%2Bubuntu/mnt/c/Users/Dell/Documents/repo-fork/video-dataset-preprocess/image-detection-by-yolo-v8.ipynb#X13sdnNjb2RlLXJlbW90ZQ%3D%3D?line=0'>1</a>\u001b[0m url \u001b[39m=\u001b[39m \u001b[39m\"\u001b[39m\u001b[39mspet.jpg\u001b[39m\u001b[39m\"\u001b[39m\n\u001b[0;32m----> <a href='vscode-notebook-cell://wsl%2Bubuntu/mnt/c/Users/Dell/Documents/repo-fork/video-dataset-preprocess/image-detection-by-yolo-v8.ipynb#X13sdnNjb2RlLXJlbW90ZQ%3D%3D?line=1'>2</a>\u001b[0m img \u001b[39m=\u001b[39m Image\u001b[39m.\u001b[39;49mopen(url)\n\u001b[1;32m      <a href='vscode-notebook-cell://wsl%2Bubuntu/mnt/c/Users/Dell/Documents/repo-fork/video-dataset-preprocess/image-detection-by-yolo-v8.ipynb#X13sdnNjb2RlLXJlbW90ZQ%3D%3D?line=2'>3</a>\u001b[0m img\n",
      "File \u001b[0;32m/usr/lib/python3/dist-packages/PIL/Image.py:2953\u001b[0m, in \u001b[0;36mopen\u001b[0;34m(fp, mode, formats)\u001b[0m\n\u001b[1;32m   2950\u001b[0m     filename \u001b[39m=\u001b[39m fp\n\u001b[1;32m   2952\u001b[0m \u001b[39mif\u001b[39;00m filename:\n\u001b[0;32m-> 2953\u001b[0m     fp \u001b[39m=\u001b[39m builtins\u001b[39m.\u001b[39;49mopen(filename, \u001b[39m\"\u001b[39;49m\u001b[39mrb\u001b[39;49m\u001b[39m\"\u001b[39;49m)\n\u001b[1;32m   2954\u001b[0m     exclusive_fp \u001b[39m=\u001b[39m \u001b[39mTrue\u001b[39;00m\n\u001b[1;32m   2956\u001b[0m \u001b[39mtry\u001b[39;00m:\n",
      "\u001b[0;31mFileNotFoundError\u001b[0m: [Errno 2] No such file or directory: 'spet.jpg'"
     ]
    }
   ],
   "source": [
    "url = \"pet.jpg\"\n",
    "img = Image.open(url)\n",
    "img"
   ]
  },
  {
   "cell_type": "code",
   "execution_count": null,
   "id": "0c11c7cd",
   "metadata": {
    "execution": {
     "iopub.execute_input": "2023-07-01T15:32:02.436665Z",
     "iopub.status.busy": "2023-07-01T15:32:02.435762Z",
     "iopub.status.idle": "2023-07-01T15:32:02.442867Z",
     "shell.execute_reply": "2023-07-01T15:32:02.441954Z"
    },
    "papermill": {
     "duration": 0.03838,
     "end_time": "2023-07-01T15:32:02.444943",
     "exception": false,
     "start_time": "2023-07-01T15:32:02.406563",
     "status": "completed"
    },
    "tags": []
   },
   "outputs": [],
   "source": [
    "width, height = img.size\n",
    "width, height"
   ]
  },
  {
   "cell_type": "markdown",
   "id": "7b976395",
   "metadata": {
    "papermill": {
     "duration": 0.026313,
     "end_time": "2023-07-01T15:32:02.497271",
     "exception": false,
     "start_time": "2023-07-01T15:32:02.470958",
     "status": "completed"
    },
    "tags": []
   },
   "source": [
    "# Predict Image"
   ]
  },
  {
   "cell_type": "code",
   "execution_count": null,
   "id": "8ea9ef8a",
   "metadata": {
    "execution": {
     "iopub.execute_input": "2023-07-01T15:32:02.552488Z",
     "iopub.status.busy": "2023-07-01T15:32:02.552054Z",
     "iopub.status.idle": "2023-07-01T15:32:14.872215Z",
     "shell.execute_reply": "2023-07-01T15:32:14.871070Z"
    },
    "papermill": {
     "duration": 12.351014,
     "end_time": "2023-07-01T15:32:14.874551",
     "exception": false,
     "start_time": "2023-07-01T15:32:02.523537",
     "status": "completed"
    },
    "tags": []
   },
   "outputs": [],
   "source": [
    "results = model.predict(url)"
   ]
  },
  {
   "cell_type": "code",
   "execution_count": null,
   "id": "235f2520",
   "metadata": {
    "execution": {
     "iopub.execute_input": "2023-07-01T15:32:14.930292Z",
     "iopub.status.busy": "2023-07-01T15:32:14.929855Z",
     "iopub.status.idle": "2023-07-01T15:32:14.933949Z",
     "shell.execute_reply": "2023-07-01T15:32:14.933083Z"
    },
    "papermill": {
     "duration": 0.034855,
     "end_time": "2023-07-01T15:32:14.936213",
     "exception": false,
     "start_time": "2023-07-01T15:32:14.901358",
     "status": "completed"
    },
    "tags": []
   },
   "outputs": [],
   "source": [
    "result = results[0]"
   ]
  },
  {
   "cell_type": "markdown",
   "id": "10aee52c",
   "metadata": {
    "papermill": {
     "duration": 0.026181,
     "end_time": "2023-07-01T15:32:14.988631",
     "exception": false,
     "start_time": "2023-07-01T15:32:14.962450",
     "status": "completed"
    },
    "tags": []
   },
   "source": [
    "#### The result contains detected objects and convenient properties to work with them. The most important one is the boxes array with information about detected bounding boxes on the image. You can determine how many objects it detected by running the len function"
   ]
  },
  {
   "cell_type": "code",
   "execution_count": null,
   "id": "aeeea803",
   "metadata": {
    "execution": {
     "iopub.execute_input": "2023-07-01T15:32:15.043524Z",
     "iopub.status.busy": "2023-07-01T15:32:15.042739Z",
     "iopub.status.idle": "2023-07-01T15:32:15.049412Z",
     "shell.execute_reply": "2023-07-01T15:32:15.048382Z"
    },
    "papermill": {
     "duration": 0.036135,
     "end_time": "2023-07-01T15:32:15.051426",
     "exception": false,
     "start_time": "2023-07-01T15:32:15.015291",
     "status": "completed"
    },
    "tags": []
   },
   "outputs": [],
   "source": [
    "len(result.boxes)"
   ]
  },
  {
   "cell_type": "code",
   "execution_count": null,
   "id": "fc058a15",
   "metadata": {
    "execution": {
     "iopub.execute_input": "2023-07-01T15:32:15.106529Z",
     "iopub.status.busy": "2023-07-01T15:32:15.105678Z",
     "iopub.status.idle": "2023-07-01T15:32:15.134727Z",
     "shell.execute_reply": "2023-07-01T15:32:15.133693Z"
    },
    "papermill": {
     "duration": 0.059378,
     "end_time": "2023-07-01T15:32:15.137145",
     "exception": false,
     "start_time": "2023-07-01T15:32:15.077767",
     "status": "completed"
    },
    "tags": []
   },
   "outputs": [],
   "source": [
    "result.boxes"
   ]
  },
  {
   "cell_type": "markdown",
   "id": "b135368d",
   "metadata": {
    "papermill": {
     "duration": 0.027445,
     "end_time": "2023-07-01T15:32:15.191821",
     "exception": false,
     "start_time": "2023-07-01T15:32:15.164376",
     "status": "completed"
    },
    "tags": []
   },
   "source": [
    "#### <li> xyxy – the coordinates of the box as an array [x0,y0,x1,y1] </li>\n",
    "#### <li> cls – the ID of object type </li>\n",
    "#### <li> conf – the confidence level of the model about this object </li>"
   ]
  },
  {
   "cell_type": "code",
   "execution_count": null,
   "id": "088ad18d",
   "metadata": {
    "execution": {
     "iopub.execute_input": "2023-07-01T15:32:15.247857Z",
     "iopub.status.busy": "2023-07-01T15:32:15.247480Z",
     "iopub.status.idle": "2023-07-01T15:32:15.255571Z",
     "shell.execute_reply": "2023-07-01T15:32:15.254480Z"
    },
    "papermill": {
     "duration": 0.038866,
     "end_time": "2023-07-01T15:32:15.257640",
     "exception": false,
     "start_time": "2023-07-01T15:32:15.218774",
     "status": "completed"
    },
    "tags": []
   },
   "outputs": [],
   "source": [
    "print(\"Object type:\", result.boxes.cls)\n",
    "print(\"Coordinates:\", result.boxes.xyxy)\n",
    "print(\"Probability:\", result.boxes.conf)"
   ]
  },
  {
   "cell_type": "markdown",
   "id": "c631e7c7",
   "metadata": {
    "papermill": {
     "duration": 0.026179,
     "end_time": "2023-07-01T15:32:15.310248",
     "exception": false,
     "start_time": "2023-07-01T15:32:15.284069",
     "status": "completed"
    },
    "tags": []
   },
   "source": [
    "#### the PyTorch models are encoded as an array of PyTorch Tensor objects, so you need to extract the first item from each of these arrays"
   ]
  },
  {
   "cell_type": "markdown",
   "id": "645227ed",
   "metadata": {
    "papermill": {
     "duration": 0.026288,
     "end_time": "2023-07-01T15:32:15.363029",
     "exception": false,
     "start_time": "2023-07-01T15:32:15.336741",
     "status": "completed"
    },
    "tags": []
   },
   "source": [
    "## Example: first class from Object type"
   ]
  },
  {
   "cell_type": "code",
   "execution_count": null,
   "id": "0f24e606",
   "metadata": {
    "execution": {
     "iopub.execute_input": "2023-07-01T15:32:15.417776Z",
     "iopub.status.busy": "2023-07-01T15:32:15.417407Z",
     "iopub.status.idle": "2023-07-01T15:32:15.425368Z",
     "shell.execute_reply": "2023-07-01T15:32:15.423889Z"
    },
    "papermill": {
     "duration": 0.03812,
     "end_time": "2023-07-01T15:32:15.427501",
     "exception": false,
     "start_time": "2023-07-01T15:32:15.389381",
     "status": "completed"
    },
    "tags": []
   },
   "outputs": [],
   "source": [
    "print(\"Object type:\", result.boxes.cls[0])\n",
    "print(\"Coordinates:\", result.boxes.xyxy[0])\n",
    "print(\"Probability:\", result.boxes.conf[0])"
   ]
  },
  {
   "cell_type": "markdown",
   "id": "0a5dfab3",
   "metadata": {
    "papermill": {
     "duration": 0.026225,
     "end_time": "2023-07-01T15:32:15.480354",
     "exception": false,
     "start_time": "2023-07-01T15:32:15.454129",
     "status": "completed"
    },
    "tags": []
   },
   "source": [
    "#### <li>To unpack actual values from Tensor, you need to use the .tolist() method for tensors with array</li>\n",
    "#### <li> o unpack actual values from Tensor, you need to use the .item() method  </li>"
   ]
  },
  {
   "cell_type": "code",
   "execution_count": null,
   "id": "81ef681d",
   "metadata": {
    "execution": {
     "iopub.execute_input": "2023-07-01T15:32:15.535465Z",
     "iopub.status.busy": "2023-07-01T15:32:15.534733Z",
     "iopub.status.idle": "2023-07-01T15:32:15.542705Z",
     "shell.execute_reply": "2023-07-01T15:32:15.541420Z"
    },
    "papermill": {
     "duration": 0.037942,
     "end_time": "2023-07-01T15:32:15.544870",
     "exception": false,
     "start_time": "2023-07-01T15:32:15.506928",
     "status": "completed"
    },
    "tags": []
   },
   "outputs": [],
   "source": [
    "cords =result.boxes.xyxy[0].tolist()\n",
    "class_id =result.boxes.cls[0].item()\n",
    "conf = result.boxes.conf[0].item()\n",
    "\n",
    "print(\"Object type:\", class_id)\n",
    "print(\"Coordinates:\", cords)\n",
    "print(\"Probability:\", conf)"
   ]
  },
  {
   "cell_type": "markdown",
   "id": "118ac7d4",
   "metadata": {
    "papermill": {
     "duration": 0.026201,
     "end_time": "2023-07-01T15:32:15.597369",
     "exception": false,
     "start_time": "2023-07-01T15:32:15.571168",
     "status": "completed"
    },
    "tags": []
   },
   "source": [
    "## The object type is 15 here. What does this mean?"
   ]
  },
  {
   "cell_type": "markdown",
   "id": "9f75d6b8",
   "metadata": {
    "papermill": {
     "duration": 0.026027,
     "end_time": "2023-07-01T15:32:15.649796",
     "exception": false,
     "start_time": "2023-07-01T15:32:15.623769",
     "status": "completed"
    },
    "tags": []
   },
   "source": [
    "### you can find that 15 is \"cat\""
   ]
  },
  {
   "cell_type": "code",
   "execution_count": null,
   "id": "8781d715",
   "metadata": {
    "execution": {
     "iopub.execute_input": "2023-07-01T15:32:15.704202Z",
     "iopub.status.busy": "2023-07-01T15:32:15.703831Z",
     "iopub.status.idle": "2023-07-01T15:32:15.709999Z",
     "shell.execute_reply": "2023-07-01T15:32:15.708991Z"
    },
    "papermill": {
     "duration": 0.035931,
     "end_time": "2023-07-01T15:32:15.712107",
     "exception": false,
     "start_time": "2023-07-01T15:32:15.676176",
     "status": "completed"
    },
    "tags": []
   },
   "outputs": [],
   "source": [
    "result.names[15]"
   ]
  },
  {
   "cell_type": "code",
   "execution_count": null,
   "id": "ba1e5fbe",
   "metadata": {
    "execution": {
     "iopub.execute_input": "2023-07-01T15:32:15.767391Z",
     "iopub.status.busy": "2023-07-01T15:32:15.767014Z",
     "iopub.status.idle": "2023-07-01T15:32:15.774006Z",
     "shell.execute_reply": "2023-07-01T15:32:15.772990Z"
    },
    "papermill": {
     "duration": 0.037277,
     "end_time": "2023-07-01T15:32:15.776113",
     "exception": false,
     "start_time": "2023-07-01T15:32:15.738836",
     "status": "completed"
    },
    "tags": []
   },
   "outputs": [],
   "source": [
    "cords =result.boxes.xyxy[0].tolist()\n",
    "class_id =result.boxes.cls[0].item()\n",
    "conf = result.boxes.conf[0].item()\n",
    "\n",
    "print(\"Object type:\", result.names[class_id]) # Change Index to class_id istead of 15\n",
    "print(\"Coordinates:\", cords)\n",
    "\n",
    "print(\"Probability:\", conf)"
   ]
  },
  {
   "cell_type": "markdown",
   "id": "a0f2dc58",
   "metadata": {
    "execution": {
     "iopub.execute_input": "2023-07-01T10:47:49.093792Z",
     "iopub.status.busy": "2023-07-01T10:47:49.093397Z",
     "iopub.status.idle": "2023-07-01T10:47:49.101471Z",
     "shell.execute_reply": "2023-07-01T10:47:49.099988Z",
     "shell.execute_reply.started": "2023-07-01T10:47:49.093764Z"
    },
    "papermill": {
     "duration": 0.026573,
     "end_time": "2023-07-01T15:32:15.829221",
     "exception": false,
     "start_time": "2023-07-01T15:32:15.802648",
     "status": "completed"
    },
    "tags": []
   },
   "source": [
    "# Show All of images that detected"
   ]
  },
  {
   "cell_type": "code",
   "execution_count": null,
   "id": "bd5850d0",
   "metadata": {
    "execution": {
     "iopub.execute_input": "2023-07-01T15:32:15.885998Z",
     "iopub.status.busy": "2023-07-01T15:32:15.885343Z",
     "iopub.status.idle": "2023-07-01T15:32:15.897943Z",
     "shell.execute_reply": "2023-07-01T15:32:15.896515Z"
    },
    "papermill": {
     "duration": 0.043292,
     "end_time": "2023-07-01T15:32:15.900012",
     "exception": false,
     "start_time": "2023-07-01T15:32:15.856720",
     "status": "completed"
    },
    "tags": []
   },
   "outputs": [],
   "source": [
    "for box in result.boxes:\n",
    "    cords =box.xyxy[0].tolist()\n",
    "    class_id =box.cls[0].item()\n",
    "    conf = box.conf[0].item()\n",
    "    \n",
    "    print(\"Object type:\",result.names[class_id],\"(\",class_id,\")\")\n",
    "    print(\"Coordinates:\", [round(cord,2) for cord in cords])\n",
    "    print(\"Probability:\", round(conf,2))\n",
    "    print(\"------------------\")"
   ]
  },
  {
   "cell_type": "code",
   "execution_count": null,
   "id": "454b82f8",
   "metadata": {
    "execution": {
     "iopub.execute_input": "2023-07-01T15:32:15.955595Z",
     "iopub.status.busy": "2023-07-01T15:32:15.954647Z",
     "iopub.status.idle": "2023-07-01T15:32:15.958836Z",
     "shell.execute_reply": "2023-07-01T15:32:15.958117Z"
    },
    "papermill": {
     "duration": 0.03457,
     "end_time": "2023-07-01T15:32:15.961006",
     "exception": false,
     "start_time": "2023-07-01T15:32:15.926436",
     "status": "completed"
    },
    "tags": []
   },
   "outputs": [],
   "source": [
    "import cv2\n",
    "import numpy as np"
   ]
  },
  {
   "cell_type": "code",
   "execution_count": null,
   "id": "f7082fee",
   "metadata": {
    "execution": {
     "iopub.execute_input": "2023-07-01T15:32:16.016550Z",
     "iopub.status.busy": "2023-07-01T15:32:16.015919Z",
     "iopub.status.idle": "2023-07-01T15:32:16.027194Z",
     "shell.execute_reply": "2023-07-01T15:32:16.026428Z"
    },
    "papermill": {
     "duration": 0.041764,
     "end_time": "2023-07-01T15:32:16.029184",
     "exception": false,
     "start_time": "2023-07-01T15:32:15.987420",
     "status": "completed"
    },
    "tags": []
   },
   "outputs": [],
   "source": [
    "image = np.array(img) # convert image to array\n",
    "for box in result.boxes:\n",
    "    cords =box.xyxy[0].tolist()\n",
    "    class_id =box.cls[0].item()\n",
    "    conf = box.conf[0].item()\n",
    "    \n",
    "    start = (int(cords[0]),int(cords[1])) # x0, y0\n",
    "    end   = (int(cords[2]),int(cords[3])) # x1, y1\n",
    "\n",
    "    cv2.rectangle(image,start,end,(0,200,0),thickness=2)\n",
    "    cv2.putText(image, result.names[class_id], (start[0]+15,start[1]+30), cv2.FONT_HERSHEY_SIMPLEX,0.9, (10,0,10), 2)# show detection objects on image"
   ]
  },
  {
   "cell_type": "code",
   "execution_count": null,
   "id": "1e857349",
   "metadata": {
    "execution": {
     "iopub.execute_input": "2023-07-01T15:32:16.085176Z",
     "iopub.status.busy": "2023-07-01T15:32:16.084507Z",
     "iopub.status.idle": "2023-07-01T15:32:16.351003Z",
     "shell.execute_reply": "2023-07-01T15:32:16.349922Z"
    },
    "papermill": {
     "duration": 0.313257,
     "end_time": "2023-07-01T15:32:16.369394",
     "exception": false,
     "start_time": "2023-07-01T15:32:16.056137",
     "status": "completed"
    },
    "tags": []
   },
   "outputs": [],
   "source": [
    "Image.fromarray(image)"
   ]
  },
  {
   "cell_type": "code",
   "execution_count": null,
   "id": "56d3588c",
   "metadata": {
    "papermill": {
     "duration": 0.044311,
     "end_time": "2023-07-01T15:32:16.461407",
     "exception": false,
     "start_time": "2023-07-01T15:32:16.417096",
     "status": "completed"
    },
    "tags": []
   },
   "outputs": [],
   "source": []
  }
 ],
 "metadata": {
  "kernelspec": {
   "display_name": "Python 3",
   "language": "python",
   "name": "python3"
  },
  "language_info": {
   "codemirror_mode": {
    "name": "ipython",
    "version": 3
   },
   "file_extension": ".py",
   "mimetype": "text/x-python",
   "name": "python",
   "nbconvert_exporter": "python",
   "pygments_lexer": "ipython3",
   "version": "3.10.12"
  },
  "papermill": {
   "default_parameters": {},
   "duration": 60.522196,
   "end_time": "2023-07-01T15:32:21.371613",
   "environment_variables": {},
   "exception": null,
   "input_path": "__notebook__.ipynb",
   "output_path": "__notebook__.ipynb",
   "parameters": {},
   "start_time": "2023-07-01T15:31:20.849417",
   "version": "2.4.0"
  }
 },
 "nbformat": 4,
 "nbformat_minor": 5
}
